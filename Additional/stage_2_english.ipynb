{
  "nbformat": 4,
  "nbformat_minor": 0,
  "metadata": {
    "colab": {
      "name": "stage 2 - english.ipynb",
      "provenance": [],
      "authorship_tag": "ABX9TyOIqfntzo0BZ1Jj3Uze4Peq",
      "include_colab_link": true
    },
    "kernelspec": {
      "name": "python3",
      "display_name": "Python 3"
    },
    "language_info": {
      "name": "python"
    }
  },
  "cells": [
    {
      "cell_type": "markdown",
      "metadata": {
        "id": "view-in-github",
        "colab_type": "text"
      },
      "source": [
        "<a href=\"https://colab.research.google.com/github/CarolLuca/NER_Legal_Domain_RO/blob/main/Additional/stage_2_english.ipynb\" target=\"_parent\"><img src=\"https://colab.research.google.com/assets/colab-badge.svg\" alt=\"Open In Colab\"/></a>"
      ]
    },
    {
      "cell_type": "code",
      "metadata": {
        "id": "8_kC2odU04ty"
      },
      "source": [
        "pip install -U spacy"
      ],
      "execution_count": null,
      "outputs": []
    },
    {
      "cell_type": "code",
      "metadata": {
        "id": "FyQcSkLeF1j0"
      },
      "source": [
        "TRAIN_DATA=[('The F15 aircraft uses a lot of fuel', {'entities': [(4, 7, 'aircraft')]}),\n",
        " ('did you see the F16 landing?', {'entities': [(16, 19, 'aircraft')]}),\n",
        " ('how many missiles can a F35 carry', {'entities': [(24, 27, 'aircraft')]}),\n",
        " ('is the F15 outdated', {'entities': [(7, 10, 'aircraft')]}),\n",
        " ('does the US still train pilots to dog fight?',\n",
        "  {'entities': [(0, 0, 'aircraft')]}),\n",
        " ('how long does it take to train a F16 pilot',\n",
        "  {'entities': [(33, 36, 'aircraft')]}),\n",
        " ('how much does a F35 cost', {'entities': [(16, 19, 'aircraft')]}),\n",
        " ('would it be possible to steal a F15', {'entities': [(32, 35, 'aircraft')]}),\n",
        " ('who manufactures the F16', {'entities': [(21, 24, 'aircraft')]}),\n",
        " ('how many countries have bought the F35',\n",
        "  {'entities': [(35, 38, 'aircraft')]}),\n",
        " ('is the F35 a waste of money', {'entities': [(7, 10, 'aircraft')]})]"
      ],
      "execution_count": null,
      "outputs": []
    },
    {
      "cell_type": "code",
      "metadata": {
        "id": "VsdQ49ykGA2P",
        "colab": {
          "base_uri": "https://localhost:8080/"
        },
        "outputId": "14ca73f4-66c3-4e48-aa7f-752e3c8df37f"
      },
      "source": [
        "python -m spacy init fill-config base_config.cfg config.cfg\n",
        "python -m spacy train config.cfg --output ./output --paths.train ./train.spacy --paths.dev ./train.spacy\n",
        "nlp1 = spacy.load(\"C:\\\\Users\\\\Carol Luca\\\\Desktop\\\\output\\\\model-best\") #load the best model\n",
        "doc = nlp1(\"Did you see the F16 fly by just now?\") # input sample text\n",
        "for token in doc:\n",
        "   print(token, token.ent_type_)"
      ],
      "execution_count": null,
      "outputs": [
        {
          "output_type": "stream",
          "text": [
            "100%|██████████| 11/11 [00:00<00:00, 862.96it/s]"
          ],
          "name": "stderr"
        },
        {
          "output_type": "stream",
          "text": [
            "Skipping entity\n"
          ],
          "name": "stdout"
        },
        {
          "output_type": "stream",
          "text": [
            "\n"
          ],
          "name": "stderr"
        }
      ]
    }
  ]
}